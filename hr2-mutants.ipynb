{
  "nbformat": 4,
  "nbformat_minor": 0,
  "metadata": {
    "colab": {
      "name": "HR2_mutations",
      "provenance": [],
      "collapsed_sections": [],
      "authorship_tag": "ABX9TyMRcYmP4kSZQufg2dhGygYa"
    },
    "kernelspec": {
      "name": "python3",
      "display_name": "Python 3"
    }
  },
  "cells": [
    {
      "cell_type": "code",
      "metadata": {
        "id": "k0e1pR57lqDa",
        "colab_type": "code",
        "colab": {}
      },
      "source": [
        "wt = \"DISGINASVVNIQKEIDRLNEVAKNLNESLI\"\n",
        "\n",
        "# We'll start by defining reasonable sets of amino acids:\n",
        "polar_noCY = set(\"NQST\")\n",
        "polar_noC = set(\"NQSTY\")\n",
        "polar_orG_noC = set(\"GNQSTY\")\n",
        "polar_oracidic_noC = set(\"DENQSTY\")\n",
        "polar_small_noC = set(\"ST\")\n",
        "small_noCGP = set(\"AST\")\n",
        "neutral_noCGW = set(\"AFILMNQSTVY\")\n",
        "basic = set(\"HKR\")\n",
        "basic_large = set(\"KR\")\n",
        "acidic = set(\"DE\")\n",
        "hydrophobic_noGPW = set(\"AFILMV\")\n",
        "hydrophobic_large = set(\"FILMVW\")\n",
        "hydrophobic_large_noW = set(\"FILMV\")\n",
        "hydrophobic_small_noGP = set(\"AV\")\n",
        "polar_oracidic_orbasic_noC = set(\"DEHKNQRSTY\")"
      ],
      "execution_count": 1,
      "outputs": []
    },
    {
      "cell_type": "code",
      "metadata": {
        "id": "EwT_IRvTnCDb",
        "colab_type": "code",
        "colab": {
          "base_uri": "https://localhost:8080/",
          "height": 55
        },
        "outputId": "8c7fb6d4-00e1-49ad-a56f-fe2d30822787"
      },
      "source": [
        "import itertools as it\n",
        "\n",
        "# Now we'll make a list of the reasonable amino acids for each site\n",
        "# by copying the sets, so we can modify the elements individually:\n",
        "possible_mutations = [acidic.copy(),\n",
        "                      hydrophobic_large_noW.copy(),\n",
        "                      polar_noCY.copy(),\n",
        "                      polar_orG_noC.copy(),\n",
        "                      hydrophobic_large_noW.copy(),\n",
        "                      polar_oracidic_noC.copy(),\n",
        "                      hydrophobic_small_noGP.copy(),\n",
        "                      polar_small_noC.copy(),\n",
        "                      polar_oracidic_noC.copy(),\n",
        "                      hydrophobic_noGPW.copy(),\n",
        "                      polar_oracidic_noC.copy(),\n",
        "                      hydrophobic_large_noW.copy(),\n",
        "                      polar_noCY.copy(),\n",
        "                      polar_oracidic_orbasic_noC.copy(),\n",
        "                      set(\"E\"),\n",
        "                      hydrophobic_large_noW.copy(),\n",
        "                      polar_oracidic_noC.copy(),\n",
        "                      basic_large.copy(),\n",
        "                      hydrophobic_large.copy(),\n",
        "                      polar_noC.copy(),\n",
        "                      acidic.copy(),\n",
        "                      hydrophobic_noGPW.copy(),\n",
        "                      small_noCGP.copy(),\n",
        "                      basic.copy(),\n",
        "                      polar_oracidic_noC.copy(),\n",
        "                      hydrophobic_large.copy(),\n",
        "                      polar_oracidic_noC.copy(),\n",
        "                      acidic.copy(),\n",
        "                      small_noCGP.copy(),\n",
        "                      neutral_noCGW.copy(),\n",
        "                      hydrophobic_large.copy()]\n",
        "\n",
        "# We'll discard the wild-type amino acid from the set of\n",
        "# possible mutations at each site:\n",
        "for i, char in enumerate(wt):\n",
        "  possible_mutations[i].discard(char)\n",
        "print(possible_mutations)\n",
        "\n",
        "mutation_sites = list(range(len(wt)))\n",
        "mutation_sites.remove(14) # no mutations considered at GLU-only position"
      ],
      "execution_count": 2,
      "outputs": [
        {
          "output_type": "stream",
          "text": [
            "[{'E'}, {'F', 'M', 'L', 'V'}, {'Q', 'T', 'N'}, {'Q', 'S', 'N', 'T', 'Y'}, {'F', 'M', 'L', 'V'}, {'E', 'S', 'D', 'Q', 'T', 'Y'}, {'V'}, {'T'}, {'E', 'S', 'N', 'D', 'Q', 'T', 'Y'}, {'I', 'F', 'M', 'L', 'A'}, {'E', 'S', 'D', 'Q', 'T', 'Y'}, {'F', 'M', 'L', 'V'}, {'T', 'S', 'N'}, {'H', 'E', 'N', 'D', 'R', 'T', 'Y', 'S', 'Q'}, set(), {'F', 'M', 'L', 'V'}, {'E', 'S', 'N', 'Q', 'T', 'Y'}, {'K'}, {'W', 'I', 'F', 'M', 'V'}, {'S', 'Q', 'T', 'Y'}, {'D'}, {'I', 'F', 'M', 'L', 'A'}, {'T', 'S'}, {'H', 'R'}, {'E', 'S', 'D', 'Q', 'T', 'Y'}, {'W', 'I', 'F', 'M', 'V'}, {'E', 'S', 'D', 'Q', 'T', 'Y'}, {'D'}, {'T', 'A'}, {'I', 'F', 'N', 'T', 'A', 'Y', 'M', 'S', 'Q', 'V'}, {'W', 'F', 'M', 'L', 'V'}]\n"
          ],
          "name": "stdout"
        }
      ]
    },
    {
      "cell_type": "code",
      "metadata": {
        "id": "6yPjNGqssadi",
        "colab_type": "code",
        "colab": {
          "base_uri": "https://localhost:8080/",
          "height": 89
        },
        "outputId": "f39014b0-ecf3-4f4e-c08a-68a74886913f"
      },
      "source": [
        "# Let's define a function to generate all mutants of an arbitrary order:\n",
        "def generate_mutants(num_mutations = 1):\n",
        "  sequences = []\n",
        "  for sites in it.combinations(mutation_sites, num_mutations):\n",
        "    for mutations in it.product(*[possible_mutations[site] for site in sites]):\n",
        "      sequence = wt[0:sites[0]]\n",
        "      for i in range(num_mutations - 1):\n",
        "        sequence += mutations[i] + wt[sites[i] + 1:sites[i + 1]]\n",
        "      sequence += mutations[-1] + wt[sites[-1] + 1:]\n",
        "      sequences.append(sequence)\n",
        "  return sequences\n",
        "\n",
        "# We can easily keep all mutants up to order 4 in memory (running on Colab):\n",
        "print(\"Stored all \" + str(len(generate_mutants(1))) + \" single mutants\")\n",
        "print(\"Stored all \" + str(len(generate_mutants(2))) + \" double mutants\")\n",
        "print(\"Stored all \" + str(len(generate_mutants(3))) + \" triple mutants\")\n",
        "print(\"Stored all \" + str(len(generate_mutants(4))) + \" quadruple mutants\")"
      ],
      "execution_count": 3,
      "outputs": [
        {
          "output_type": "stream",
          "text": [
            "Stored all 124 single mutants\n",
            "Stored all 7350 double mutants\n",
            "Stored all 277294 triple mutants\n",
            "Stored all 7479778 quadruple mutants\n"
          ],
          "name": "stdout"
        }
      ]
    },
    {
      "cell_type": "code",
      "metadata": {
        "id": "wLceBbt437Mo",
        "colab_type": "code",
        "colab": {
          "base_uri": "https://localhost:8080/",
          "height": 35
        },
        "outputId": "184d55d5-e904-4665-a63e-961d3d9fed4c"
      },
      "source": [
        "import numpy as np\n",
        "\n",
        "# Here's a function to count the number of mutants of arbitrary order\n",
        "# without actually generating them:\n",
        "def count_mutants(num_mutations = 1):\n",
        "  num_mutants = 0\n",
        "  for sites in it.combinations(mutation_sites, num_mutations):\n",
        "    num_mutants += np.product([len(possible_mutations[site]) for site in sites])\n",
        "  return num_mutants\n",
        "\n",
        "print(\"There are \" + str(count_mutants(8)) + \" mutants with 8 mutations\")"
      ],
      "execution_count": 4,
      "outputs": [
        {
          "output_type": "stream",
          "text": [
            "There are 361446256260 mutants with 8 mutations\n"
          ],
          "name": "stdout"
        }
      ]
    },
    {
      "cell_type": "code",
      "metadata": {
        "id": "ojOSVVTJ6qRZ",
        "colab_type": "code",
        "colab": {
          "base_uri": "https://localhost:8080/",
          "height": 73
        },
        "outputId": "139ba708-83dc-4bfe-cbb6-c750cf5923a5"
      },
      "source": [
        "import random\n",
        "\n",
        "def random_combination(iterable, r): # from itertools documentation\n",
        "  pool = tuple(iterable)\n",
        "  n = len(pool)\n",
        "  indices = sorted(random.sample(range(n), r))\n",
        "  return tuple(pool[i] for i in indices)\n",
        "\n",
        "def random_product(*args, repeat = 1): # from itertools documentation\n",
        "  pools = [tuple(pool) for pool in args] * repeat\n",
        "  return tuple(random.choice(pool) for pool in pools)\n",
        "\n",
        "# Now, a function to sample a number of mutants of arbitrary order\n",
        "# without generating them all. In this case, we are sampling uniformly\n",
        "# over the sites that are mutated, which means that each mutant is not\n",
        "# equally probable.\n",
        "def generate_mutant_sample(num_mutations = 1, num_samples = 1):\n",
        "  sequences = []\n",
        "  while len(sequences) < num_samples:\n",
        "    sites = random_combination(mutation_sites, num_mutations)\n",
        "    mutations = random_product(*[possible_mutations[site] for site in sites])\n",
        "    sequence = wt[0:sites[0]]\n",
        "    for i in range(num_mutations - 1):\n",
        "      sequence += mutations[i] + wt[sites[i] + 1:sites[i + 1]]\n",
        "    sequence += mutations[-1] + wt[sites[-1] + 1:]\n",
        "    if sequence not in sequences:\n",
        "      sequences.append(sequence)\n",
        "  return sequences\n",
        "\n",
        "print(\"A list of 10 random sequences with 10 mutations:\")\n",
        "print(generate_mutant_sample(10,10))"
      ],
      "execution_count": 5,
      "outputs": [
        {
          "output_type": "stream",
          "text": [
            "A list of 10 random sequences with 10 mutations:\n",
            "['EIQGINATVVELQDEITRLNEVAKQFNEALI', 'DMNQINVSVVNIQREIQRWNEVTKNLNETLW', 'EVSGVNASVVNFQKEIDKLYELTKNLYEALI', 'DVSGINASVVTMSKEIDKFSEVTHNLNESNI', 'DISNISVTDVNISKEIDKLNEVAKNLEESYL', 'DISNITVTVMNINKEIDRLNDVAKNWDESLF', 'DISTITATVVNIQKEIQKMNDVAKNLSESYF', 'DISGIQASVVNINYEISRLNEMSKTLEDSFI', 'DMSTINVSVVNIQKELDRMNELTKSLEDSLI', 'EFTGFNATVVQIQKEIDRLNDVTKNVNETLI']\n"
          ],
          "name": "stdout"
        }
      ]
    },
    {
      "cell_type": "code",
      "metadata": {
        "id": "TLjZbJNOzmgm",
        "colab_type": "code",
        "colab": {
          "base_uri": "https://localhost:8080/",
          "height": 297
        },
        "outputId": "f7338115-daa8-42d7-cb9b-9580353787a6"
      },
      "source": [
        "# This cell demonstrates the combinatorial explosion of mutants at high order:\n",
        "%matplotlib inline\n",
        "from matplotlib import pyplot as plt\n",
        "\n",
        "x = np.arange(1, 11)\n",
        "y = [count_mutants(xval) for xval in x]\n",
        "\n",
        "plt.plot(x, y)\n",
        "plt.yscale(\"log\")\n",
        "plt.xlabel(\"number of mutations\")\n",
        "plt.ylabel(\"number of unique mutants\")"
      ],
      "execution_count": 6,
      "outputs": [
        {
          "output_type": "execute_result",
          "data": {
            "text/plain": [
              "Text(0, 0.5, 'number of unique mutants')"
            ]
          },
          "metadata": {
            "tags": []
          },
          "execution_count": 6
        },
        {
          "output_type": "display_data",
          "data": {
            "image/png": "[encoded data removed]",
            "text/plain": [
              "<Figure size 432x288 with 1 Axes>"
            ]
          },
          "metadata": {
            "tags": [],
            "needs_background": "light"
          }
        }
      ]
    }
  ]
}